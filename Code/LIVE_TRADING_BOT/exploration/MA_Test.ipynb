{
 "cells": [
  {
   "cell_type": "code",
   "execution_count": null,
   "id": "5fed330a",
   "metadata": {},
   "outputs": [],
   "source": [
    "import sys\n",
    "sys.path.append(\"../\")\n",
    "import pandas as pd\n",
    "import plotly.graph_objects as go\n",
    "import datetime as dt\n",
    "from plotting import CandlePlot"
   ]
  },
  {
   "cell_type": "code",
   "execution_count": null,
   "id": "f7901fe1",
   "metadata": {},
   "outputs": [],
   "source": [
    "from infrastructure.instrument_collection import instrumentCollection as ic"
   ]
  },
  {
   "cell_type": "code",
   "execution_count": null,
   "id": "b19a3cf7",
   "metadata": {},
   "outputs": [],
   "source": [
    "pair = \"GBP_JPY\"\n",
    "granularity = \"H4\"\n",
    "df = pd.read_pickle(f\"../data/{pair}_{granularity}.pkl\")\n",
    "MA_LIST = [10, 20, 50, 100, 200]"
   ]
  },
  {
   "cell_type": "code",
   "execution_count": null,
   "id": "d163b875",
   "metadata": {},
   "outputs": [],
   "source": [
    "df_ma = df[['time', 'mid_o', 'mid_h', 'mid_l', 'mid_c']].copy()"
   ]
  },
  {
   "cell_type": "code",
   "execution_count": null,
   "id": "1996e9b2",
   "metadata": {},
   "outputs": [],
   "source": [
    "df_ma.head()"
   ]
  },
  {
   "cell_type": "code",
   "execution_count": null,
   "id": "2bd5b6f3",
   "metadata": {},
   "outputs": [],
   "source": [
    "for ma in MA_LIST:    \n",
    "    df_ma[f'MA_{ma}'] = df_ma.mid_c.rolling(window=ma).mean()\n",
    "df_ma.dropna(inplace=True)\n",
    "df_ma.reset_index(inplace=True, drop=True)"
   ]
  },
  {
   "cell_type": "code",
   "execution_count": null,
   "id": "2046e30d",
   "metadata": {},
   "outputs": [],
   "source": [
    "df_plot = df_ma.iloc[:500]"
   ]
  },
  {
   "cell_type": "code",
   "execution_count": null,
   "id": "fdb6f2c5",
   "metadata": {},
   "outputs": [],
   "source": [
    "cp = CandlePlot(df_plot)"
   ]
  },
  {
   "cell_type": "code",
   "execution_count": null,
   "id": "df51c5c1",
   "metadata": {},
   "outputs": [],
   "source": [
    "traces = [ f\"MA_{x}\" for x in MA_LIST ]"
   ]
  },
  {
   "cell_type": "code",
   "execution_count": null,
   "id": "210c53e5",
   "metadata": {},
   "outputs": [],
   "source": [
    "cp.show_plot(line_traces=traces)"
   ]
  },
  {
   "cell_type": "code",
   "execution_count": null,
   "id": "aa59bf65",
   "metadata": {},
   "outputs": [],
   "source": [
    "MA_S = \"MA_50\"\n",
    "MA_L = \"MA_200\"\n",
    "BUY = 1\n",
    "SELL = -1\n",
    "NONE = 0"
   ]
  },
  {
   "cell_type": "code",
   "execution_count": null,
   "id": "3528ed09",
   "metadata": {},
   "outputs": [],
   "source": [
    "df_an = df_ma[['time', 'mid_o', 'mid_h', 'mid_l', 'mid_c', MA_S, MA_L]].copy()"
   ]
  },
  {
   "cell_type": "code",
   "execution_count": null,
   "id": "a64ba904",
   "metadata": {},
   "outputs": [],
   "source": [
    "df_an.head()"
   ]
  },
  {
   "cell_type": "code",
   "execution_count": null,
   "id": "e2715b14",
   "metadata": {},
   "outputs": [],
   "source": [
    "df_an['DELTA'] = df_an.MA_50 - df_an.MA_200\n",
    "df_an['DELTA_PREV'] = df_an.DELTA.shift(1)"
   ]
  },
  {
   "cell_type": "code",
   "execution_count": null,
   "id": "2449e608",
   "metadata": {},
   "outputs": [],
   "source": [
    "def is_trade(row):\n",
    "    if row.DELTA >= 0  and row.DELTA_PREV < 0:\n",
    "        return BUY\n",
    "    elif row.DELTA < 0  and row.DELTA_PREV >= 0:\n",
    "        return SELL\n",
    "    return NONE"
   ]
  },
  {
   "cell_type": "code",
   "execution_count": null,
   "id": "9ebd519d",
   "metadata": {},
   "outputs": [],
   "source": [
    "df_an['TRADE'] = df_an.apply(is_trade, axis=1)"
   ]
  },
  {
   "cell_type": "code",
   "execution_count": null,
   "id": "a4afafb4",
   "metadata": {},
   "outputs": [],
   "source": [
    "df_trades = df_an[df_an.TRADE != NONE].copy()"
   ]
  },
  {
   "cell_type": "code",
   "execution_count": null,
   "id": "09890362",
   "metadata": {},
   "outputs": [],
   "source": [
    "df_trades.head()"
   ]
  },
  {
   "cell_type": "code",
   "execution_count": null,
   "id": "630c1fb8",
   "metadata": {},
   "outputs": [],
   "source": [
    "cp = CandlePlot(df_an.iloc[220:260])\n",
    "cp.show_plot(line_traces=[MA_S, MA_L])"
   ]
  },
  {
   "cell_type": "code",
   "execution_count": null,
   "id": "a3d019ff",
   "metadata": {},
   "outputs": [],
   "source": [
    "ic.LoadInstruments(\"../data\")"
   ]
  },
  {
   "cell_type": "code",
   "execution_count": null,
   "id": "9348690c",
   "metadata": {},
   "outputs": [],
   "source": [
    "ic.instruments_dict[pair]"
   ]
  },
  {
   "cell_type": "code",
   "execution_count": null,
   "id": "62f27766",
   "metadata": {},
   "outputs": [],
   "source": [
    "ins_data = ic.instruments_dict[pair]"
   ]
  },
  {
   "cell_type": "code",
   "execution_count": null,
   "id": "f998eb8b",
   "metadata": {},
   "outputs": [],
   "source": [
    "df_trades.shape"
   ]
  },
  {
   "cell_type": "code",
   "execution_count": null,
   "id": "5da185ff",
   "metadata": {},
   "outputs": [],
   "source": [
    "df_trades['DIFF'] = df_trades.mid_c.diff().shift(-1)\n",
    "df_trades.fillna(0, inplace=True)"
   ]
  },
  {
   "cell_type": "code",
   "execution_count": null,
   "id": "6dd32d74",
   "metadata": {},
   "outputs": [],
   "source": [
    "df_trades['GAIN'] = df_trades['DIFF'] / ins_data.pipLocation\n",
    "df_trades['GAIN'] = df_trades['GAIN'] * df_trades['TRADE'] "
   ]
  },
  {
   "cell_type": "code",
   "execution_count": null,
   "id": "4e3a69f8",
   "metadata": {},
   "outputs": [],
   "source": [
    "df_trades.GAIN.sum()"
   ]
  },
  {
   "cell_type": "code",
   "execution_count": null,
   "id": "ac5dbabc",
   "metadata": {},
   "outputs": [],
   "source": [
    "df_trades['GAIN_C'] = df_trades['GAIN'].cumsum()"
   ]
  },
  {
   "cell_type": "code",
   "execution_count": null,
   "id": "7a0ad325",
   "metadata": {},
   "outputs": [],
   "source": [
    "cp = CandlePlot(df_trades, candles=False)\n",
    "cp.show_plot(line_traces=['GAIN_C'])"
   ]
  },
  {
   "cell_type": "code",
   "execution_count": null,
   "id": "31383e17",
   "metadata": {},
   "outputs": [],
   "source": []
  },
  {
   "cell_type": "code",
   "execution_count": null,
   "id": "e5580b55",
   "metadata": {},
   "outputs": [],
   "source": []
  },
  {
   "cell_type": "code",
   "execution_count": null,
   "id": "88c7d0cb",
   "metadata": {},
   "outputs": [],
   "source": []
  }
 ],
 "metadata": {
  "kernelspec": {
   "display_name": "Python 3 (ipykernel)",
   "language": "python",
   "name": "python3"
  },
  "language_info": {
   "codemirror_mode": {
    "name": "ipython",
    "version": 3
   },
   "file_extension": ".py",
   "mimetype": "text/x-python",
   "name": "python",
   "nbconvert_exporter": "python",
   "pygments_lexer": "ipython3",
   "version": "3.10.1"
  }
 },
 "nbformat": 4,
 "nbformat_minor": 5
}

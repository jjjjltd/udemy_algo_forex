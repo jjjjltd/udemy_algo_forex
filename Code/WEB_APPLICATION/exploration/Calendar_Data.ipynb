{
 "cells": [
  {
   "cell_type": "code",
   "execution_count": null,
   "id": "703154c3",
   "metadata": {},
   "outputs": [],
   "source": [
    "import sys\n",
    "sys.path.append(\"../\")\n",
    "\n",
    "import pandas as pd\n",
    "import plotly.graph_objects as go\n",
    "from dateutil import parser\n",
    "import datetime as dt\n",
    "\n",
    "from api.oanda_api import OandaApi\n",
    "from infrastructure.instrument_collection import instrumentCollection as ic\n",
    "from db.db import DataDB\n",
    "\n",
    "pd.set_option('display.max_rows', None)"
   ]
  },
  {
   "cell_type": "code",
   "execution_count": null,
   "id": "be92638f",
   "metadata": {},
   "outputs": [],
   "source": [
    "database = DataDB()"
   ]
  },
  {
   "cell_type": "code",
   "execution_count": null,
   "id": "8dc2b3e8",
   "metadata": {},
   "outputs": [],
   "source": [
    "ic.LoadInstrumentsDB()"
   ]
  },
  {
   "cell_type": "code",
   "execution_count": null,
   "id": "a0d27d68",
   "metadata": {},
   "outputs": [],
   "source": [
    "pairs = []\n",
    "for pair, val in ic.instruments_dict.items():\n",
    "    if val.ins_type == \"CURRENCY\" and \"GBP\" in pair:\n",
    "        pairs.append(pair)"
   ]
  },
  {
   "cell_type": "code",
   "execution_count": null,
   "id": "b886a581",
   "metadata": {},
   "outputs": [],
   "source": [
    "pairs"
   ]
  },
  {
   "cell_type": "code",
   "execution_count": null,
   "id": "09c38a94",
   "metadata": {},
   "outputs": [],
   "source": [
    "data = []\n",
    "api = OandaApi()\n",
    "for p in pairs:\n",
    "    d_temp = api.get_candles_df(pair_name=p, granularity=\"D\",count=400)\n",
    "    d_temp['gain'] = ((d_temp.mid_c - d_temp.mid_o) / d_temp.mid_c) * 100\n",
    "    d_temp['pair'] = p\n",
    "    if '_GBP' in p:\n",
    "        d_temp['gain'] = d_temp['gain'] * -1\n",
    "    data.append(d_temp)\n",
    "candles_df = pd.concat(data)\n",
    "candles_df.reset_index(drop=True, inplace=True)\n",
    "candles_df.time = candles_df.time.dt.date"
   ]
  },
  {
   "cell_type": "code",
   "execution_count": null,
   "id": "7d43d6e8",
   "metadata": {},
   "outputs": [],
   "source": [
    "candles_df.tail()"
   ]
  },
  {
   "cell_type": "code",
   "execution_count": null,
   "id": "b96d9c08",
   "metadata": {},
   "outputs": [],
   "source": [
    "calendar_data = database.query_all(DataDB.CALENDAR_COLL)"
   ]
  },
  {
   "cell_type": "code",
   "execution_count": null,
   "id": "1eb83785",
   "metadata": {},
   "outputs": [],
   "source": [
    "calendar_data_df = pd.DataFrame.from_dict(calendar_data)"
   ]
  },
  {
   "cell_type": "code",
   "execution_count": null,
   "id": "a268490a",
   "metadata": {},
   "outputs": [],
   "source": [
    "calendar_data_df.date = calendar_data_df.date.dt.date"
   ]
  },
  {
   "cell_type": "code",
   "execution_count": null,
   "id": "a64f3df6",
   "metadata": {},
   "outputs": [],
   "source": [
    "calendar_data_df_uk = calendar_data_df[calendar_data_df.country == \"united kingdom\"].copy()"
   ]
  },
  {
   "cell_type": "code",
   "execution_count": null,
   "id": "bb4053a9",
   "metadata": {},
   "outputs": [],
   "source": [
    "calendar_data_df_uk.head(10)"
   ]
  },
  {
   "cell_type": "code",
   "execution_count": null,
   "id": "142704c9",
   "metadata": {},
   "outputs": [],
   "source": [
    "calendar_data_df_uk.info()"
   ]
  },
  {
   "cell_type": "code",
   "execution_count": null,
   "id": "fc566474",
   "metadata": {},
   "outputs": [],
   "source": [
    "for col in ['actual', 'previous', 'forecast']:\n",
    "    for sy in ['£', '%', 'B', 'K']:\n",
    "        calendar_data_df_uk[col] = calendar_data_df_uk[col].str.replace(sy, \"\")\n",
    "    calendar_data_df_uk[col].replace('', 0, inplace=True)\n",
    "    calendar_data_df_uk[col] = calendar_data_df_uk[col].astype(float)"
   ]
  },
  {
   "cell_type": "code",
   "execution_count": null,
   "id": "5be1a527",
   "metadata": {},
   "outputs": [],
   "source": [
    "date_match = {}\n",
    "for orig in calendar_data_df_uk.date.unique():\n",
    "    d = orig\n",
    "    tries = 0\n",
    "    while d not in candles_df.time.values:\n",
    "        d = d + dt.timedelta(days=1)\n",
    "        tries += 1\n",
    "        if tries > 5:\n",
    "            print(\"Failed\")\n",
    "            break\n",
    "    date_match[orig] = d"
   ]
  },
  {
   "cell_type": "code",
   "execution_count": null,
   "id": "60c83c18",
   "metadata": {},
   "outputs": [],
   "source": [
    "calendar_data_df_uk['orig_date'] = calendar_data_df_uk.date\n",
    "calendar_data_df_uk.date = [date_match[x] for x in calendar_data_df_uk.date]"
   ]
  },
  {
   "cell_type": "code",
   "execution_count": null,
   "id": "90342922",
   "metadata": {},
   "outputs": [],
   "source": [
    "calendar_data_df_uk['delta_prev'] = calendar_data_df_uk.actual - calendar_data_df_uk.previous\n",
    "calendar_data_df_uk['delta_fc'] = calendar_data_df_uk.actual - calendar_data_df_uk.forecast"
   ]
  },
  {
   "cell_type": "code",
   "execution_count": null,
   "id": "c243659e",
   "metadata": {},
   "outputs": [],
   "source": [
    "calendar_data_df_uk.head(2)"
   ]
  },
  {
   "cell_type": "code",
   "execution_count": null,
   "id": "687268c0",
   "metadata": {},
   "outputs": [],
   "source": [
    "candles_an.head(2)"
   ]
  },
  {
   "cell_type": "code",
   "execution_count": null,
   "id": "4c57d479",
   "metadata": {},
   "outputs": [],
   "source": [
    "candles_an = candles_df[['time', 'pair', 'gain']].copy()"
   ]
  },
  {
   "cell_type": "code",
   "execution_count": null,
   "id": "79f32951",
   "metadata": {},
   "outputs": [],
   "source": [
    "merged = pd.merge(left=candles_an, right=calendar_data_df_uk, left_on='time', right_on='date')"
   ]
  },
  {
   "cell_type": "code",
   "execution_count": null,
   "id": "57b027d4",
   "metadata": {},
   "outputs": [],
   "source": [
    "merged[merged.category=='inflation rate'].head(2)"
   ]
  },
  {
   "cell_type": "code",
   "execution_count": null,
   "id": "0b9970fc",
   "metadata": {},
   "outputs": [],
   "source": [
    "merged.category.unique()"
   ]
  },
  {
   "cell_type": "code",
   "execution_count": null,
   "id": "35a23d1f",
   "metadata": {},
   "outputs": [],
   "source": [
    "c = 'consumer confidence'\n",
    "df_an = merged[merged.category==c]\n",
    "print(df_an[df_an.delta_fc >= 0].gain.sum())\n",
    "print(df_an[df_an.delta_fc < 0].gain.sum())"
   ]
  },
  {
   "cell_type": "code",
   "execution_count": null,
   "id": "12704f2c",
   "metadata": {},
   "outputs": [],
   "source": [
    "import plotly.express as px"
   ]
  },
  {
   "cell_type": "code",
   "execution_count": null,
   "id": "ea1b8d9f",
   "metadata": {
    "scrolled": false
   },
   "outputs": [],
   "source": [
    "cat = 'inflation rate'\n",
    "df_cat = merged[merged.category==cat]\n",
    "for p in pairs:\n",
    "    df_plot = df_cat[df_cat.pair == p]\n",
    "    print(p)\n",
    "    fig = px.scatter(df_plot, x=\"gain\", y=\"delta_prev\", trendline=\"ols\")\n",
    "    fig.show()"
   ]
  },
  {
   "cell_type": "code",
   "execution_count": null,
   "id": "70bc0584",
   "metadata": {},
   "outputs": [],
   "source": []
  },
  {
   "cell_type": "code",
   "execution_count": null,
   "id": "f09f1e48",
   "metadata": {},
   "outputs": [],
   "source": []
  },
  {
   "cell_type": "code",
   "execution_count": null,
   "id": "cd511282",
   "metadata": {},
   "outputs": [],
   "source": []
  },
  {
   "cell_type": "code",
   "execution_count": null,
   "id": "4d391587",
   "metadata": {},
   "outputs": [],
   "source": []
  },
  {
   "cell_type": "code",
   "execution_count": null,
   "id": "149afb9c",
   "metadata": {},
   "outputs": [],
   "source": []
  }
 ],
 "metadata": {
  "kernelspec": {
   "display_name": "Python 3 (ipykernel)",
   "language": "python",
   "name": "python3"
  },
  "language_info": {
   "codemirror_mode": {
    "name": "ipython",
    "version": 3
   },
   "file_extension": ".py",
   "mimetype": "text/x-python",
   "name": "python",
   "nbconvert_exporter": "python",
   "pygments_lexer": "ipython3",
   "version": "3.10.1"
  }
 },
 "nbformat": 4,
 "nbformat_minor": 5
}

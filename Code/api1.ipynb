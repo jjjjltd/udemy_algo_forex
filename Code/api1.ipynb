{
 "cells": [
  {
   "cell_type": "code",
   "execution_count": 1,
   "metadata": {},
   "outputs": [],
   "source": [
    "import requests\n",
    "import pandas as pd\n",
    "import json\n"
   ]
  },
  {
   "cell_type": "code",
   "execution_count": 2,
   "metadata": {},
   "outputs": [],
   "source": [
    "import defs\n",
    "API_KEY = defs.API_KEY\n",
    "ACCOUNT_ID = defs.ACCOUNT_ID\n",
    "OANDA_URL = defs.OANDA_URL\n",
    "\n"
   ]
  },
  {
   "cell_type": "code",
   "execution_count": 3,
   "metadata": {},
   "outputs": [],
   "source": [
    "session = requests.Session()"
   ]
  },
  {
   "cell_type": "code",
   "execution_count": 14,
   "metadata": {},
   "outputs": [],
   "source": [
    "params = dict(\n",
    "    count = 10,\n",
    "    granularity = \"H1\",\n",
    "    price = \"MBA\"\n",
    ")"
   ]
  },
  {
   "cell_type": "code",
   "execution_count": 15,
   "metadata": {},
   "outputs": [],
   "source": [
    "session.headers.update({\n",
    "    \"Authorization\": f\"Bearer {API_KEY}\",\n",
    "    \"Content-Type\": \"application/json\"\n",
    "})"
   ]
  },
  {
   "cell_type": "code",
   "execution_count": 16,
   "metadata": {},
   "outputs": [],
   "source": [
    "url = f\"{OANDA_URL}/instruments/EUR_USD/candles\""
   ]
  },
  {
   "cell_type": "code",
   "execution_count": 17,
   "metadata": {},
   "outputs": [
    {
     "data": {
      "text/plain": [
       "200"
      ]
     },
     "execution_count": 17,
     "metadata": {},
     "output_type": "execute_result"
    }
   ],
   "source": [
    "response = session.get(url, params=params, data=None, headers=None)\n",
    "response.status_code"
   ]
  },
  {
   "cell_type": "code",
   "execution_count": 18,
   "metadata": {},
   "outputs": [
    {
     "data": {
      "text/plain": [
       "{'instrument': 'EUR_USD',\n",
       " 'granularity': 'H1',\n",
       " 'candles': [{'complete': True,\n",
       "   'volume': 2864,\n",
       "   'time': '2023-09-08T00:00:00.000000000Z',\n",
       "   'bid': {'o': '1.06971', 'h': '1.07146', 'l': '1.06965', 'c': '1.07133'},\n",
       "   'mid': {'o': '1.06978', 'h': '1.07153', 'l': '1.06972', 'c': '1.07140'},\n",
       "   'ask': {'o': '1.06986', 'h': '1.07160', 'l': '1.06980', 'c': '1.07148'}},\n",
       "  {'complete': True,\n",
       "   'volume': 3433,\n",
       "   'time': '2023-09-08T01:00:00.000000000Z',\n",
       "   'bid': {'o': '1.07133', 'h': '1.07206', 'l': '1.07041', 'c': '1.07163'},\n",
       "   'mid': {'o': '1.07140', 'h': '1.07213', 'l': '1.07048', 'c': '1.07172'},\n",
       "   'ask': {'o': '1.07147', 'h': '1.07220', 'l': '1.07056', 'c': '1.07180'}},\n",
       "  {'complete': True,\n",
       "   'volume': 2375,\n",
       "   'time': '2023-09-08T02:00:00.000000000Z',\n",
       "   'bid': {'o': '1.07166', 'h': '1.07227', 'l': '1.07136', 'c': '1.07171'},\n",
       "   'mid': {'o': '1.07174', 'h': '1.07234', 'l': '1.07144', 'c': '1.07179'},\n",
       "   'ask': {'o': '1.07181', 'h': '1.07241', 'l': '1.07152', 'c': '1.07187'}},\n",
       "  {'complete': True,\n",
       "   'volume': 1379,\n",
       "   'time': '2023-09-08T03:00:00.000000000Z',\n",
       "   'bid': {'o': '1.07173', 'h': '1.07176', 'l': '1.07142', 'c': '1.07157'},\n",
       "   'mid': {'o': '1.07181', 'h': '1.07184', 'l': '1.07150', 'c': '1.07165'},\n",
       "   'ask': {'o': '1.07189', 'h': '1.07193', 'l': '1.07157', 'c': '1.07173'}},\n",
       "  {'complete': True,\n",
       "   'volume': 1266,\n",
       "   'time': '2023-09-08T04:00:00.000000000Z',\n",
       "   'bid': {'o': '1.07158', 'h': '1.07162', 'l': '1.07119', 'c': '1.07128'},\n",
       "   'mid': {'o': '1.07166', 'h': '1.07171', 'l': '1.07127', 'c': '1.07136'},\n",
       "   'ask': {'o': '1.07175', 'h': '1.07180', 'l': '1.07135', 'c': '1.07144'}},\n",
       "  {'complete': True,\n",
       "   'volume': 1781,\n",
       "   'time': '2023-09-08T05:00:00.000000000Z',\n",
       "   'bid': {'o': '1.07130', 'h': '1.07255', 'l': '1.07128', 'c': '1.07234'},\n",
       "   'mid': {'o': '1.07138', 'h': '1.07262', 'l': '1.07136', 'c': '1.07242'},\n",
       "   'ask': {'o': '1.07146', 'h': '1.07270', 'l': '1.07143', 'c': '1.07251'}},\n",
       "  {'complete': True,\n",
       "   'volume': 3354,\n",
       "   'time': '2023-09-08T06:00:00.000000000Z',\n",
       "   'bid': {'o': '1.07227', 'h': '1.07275', 'l': '1.07136', 'c': '1.07147'},\n",
       "   'mid': {'o': '1.07234', 'h': '1.07282', 'l': '1.07144', 'c': '1.07154'},\n",
       "   'ask': {'o': '1.07242', 'h': '1.07289', 'l': '1.07151', 'c': '1.07162'}},\n",
       "  {'complete': True,\n",
       "   'volume': 4189,\n",
       "   'time': '2023-09-08T07:00:00.000000000Z',\n",
       "   'bid': {'o': '1.07145', 'h': '1.07183', 'l': '1.07069', 'c': '1.07080'},\n",
       "   'mid': {'o': '1.07153', 'h': '1.07191', 'l': '1.07077', 'c': '1.07087'},\n",
       "   'ask': {'o': '1.07161', 'h': '1.07199', 'l': '1.07085', 'c': '1.07094'}},\n",
       "  {'complete': True,\n",
       "   'volume': 3946,\n",
       "   'time': '2023-09-08T08:00:00.000000000Z',\n",
       "   'bid': {'o': '1.07081', 'h': '1.07168', 'l': '1.07070', 'c': '1.07109'},\n",
       "   'mid': {'o': '1.07088', 'h': '1.07176', 'l': '1.07078', 'c': '1.07117'},\n",
       "   'ask': {'o': '1.07095', 'h': '1.07184', 'l': '1.07085', 'c': '1.07125'}},\n",
       "  {'complete': False,\n",
       "   'volume': 3396,\n",
       "   'time': '2023-09-08T09:00:00.000000000Z',\n",
       "   'bid': {'o': '1.07108', 'h': '1.07108', 'l': '1.06985', 'c': '1.07022'},\n",
       "   'mid': {'o': '1.07116', 'h': '1.07116', 'l': '1.06992', 'c': '1.07030'},\n",
       "   'ask': {'o': '1.07123', 'h': '1.07124', 'l': '1.07000', 'c': '1.07038'}}]}"
      ]
     },
     "execution_count": 18,
     "metadata": {},
     "output_type": "execute_result"
    }
   ],
   "source": [
    "response.json()"
   ]
  },
  {
   "cell_type": "code",
   "execution_count": null,
   "metadata": {},
   "outputs": [],
   "source": []
  }
 ],
 "metadata": {
  "kernelspec": {
   "display_name": "venv",
   "language": "python",
   "name": "python3"
  },
  "language_info": {
   "codemirror_mode": {
    "name": "ipython",
    "version": 3
   },
   "file_extension": ".py",
   "mimetype": "text/x-python",
   "name": "python",
   "nbconvert_exporter": "python",
   "pygments_lexer": "ipython3",
   "version": "3.10.4"
  },
  "orig_nbformat": 4
 },
 "nbformat": 4,
 "nbformat_minor": 2
}

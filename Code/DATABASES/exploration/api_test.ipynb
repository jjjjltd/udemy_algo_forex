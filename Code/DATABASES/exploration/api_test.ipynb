{
 "cells": [
  {
   "cell_type": "code",
   "execution_count": 52,
   "id": "eb9a0d6c",
   "metadata": {},
   "outputs": [],
   "source": [
    "import requests\n",
    "import pandas as pd\n",
    "import json\n",
    "from dateutil import parser"
   ]
  },
  {
   "cell_type": "code",
   "execution_count": 3,
   "id": "e8639712",
   "metadata": {},
   "outputs": [],
   "source": [
    "API_KEY = \"xx\"\n",
    "ACCOUNT_ID = \"xx\"\n",
    "OANDA_URL = \"https://api-fxpractice.oanda.com/v3\""
   ]
  },
  {
   "cell_type": "code",
   "execution_count": 4,
   "id": "196669c0",
   "metadata": {},
   "outputs": [],
   "source": [
    "session = requests.Session()"
   ]
  },
  {
   "cell_type": "code",
   "execution_count": 6,
   "id": "2b02ffb0",
   "metadata": {},
   "outputs": [],
   "source": [
    "session.headers.update({\n",
    "    \"Authorization\": f\"Bearer {API_KEY}\",\n",
    "    \"Content-Type\": \"application/json\"\n",
    "})"
   ]
  },
  {
   "cell_type": "code",
   "execution_count": 12,
   "id": "724662b9",
   "metadata": {},
   "outputs": [],
   "source": [
    "params = dict(\n",
    "    count = 10,\n",
    "    granularity = \"H1\",\n",
    "    price = \"MBA\"\n",
    ")"
   ]
  },
  {
   "cell_type": "code",
   "execution_count": 17,
   "id": "ce4feeee",
   "metadata": {},
   "outputs": [],
   "source": [
    "url = f\"{OANDA_URL}/accounts/{ACCOUNT_ID}/instruments\""
   ]
  },
  {
   "cell_type": "code",
   "execution_count": 18,
   "id": "3adb3bc0",
   "metadata": {},
   "outputs": [],
   "source": [
    "response = session.get(url, params=None, data=None, headers=None)"
   ]
  },
  {
   "cell_type": "code",
   "execution_count": 19,
   "id": "2d1e3f68",
   "metadata": {},
   "outputs": [
    {
     "data": {
      "text/plain": [
       "200"
      ]
     },
     "execution_count": 19,
     "metadata": {},
     "output_type": "execute_result"
    }
   ],
   "source": [
    "response.status_code"
   ]
  },
  {
   "cell_type": "code",
   "execution_count": 20,
   "id": "b61af922",
   "metadata": {},
   "outputs": [],
   "source": [
    "data = response.json()"
   ]
  },
  {
   "cell_type": "code",
   "execution_count": 23,
   "id": "7cca9dbf",
   "metadata": {},
   "outputs": [],
   "source": [
    "instruments_list = data['instruments']"
   ]
  },
  {
   "cell_type": "code",
   "execution_count": 24,
   "id": "062ad001",
   "metadata": {},
   "outputs": [
    {
     "data": {
      "text/plain": [
       "130"
      ]
     },
     "execution_count": 24,
     "metadata": {},
     "output_type": "execute_result"
    }
   ],
   "source": [
    "len(instruments_list)"
   ]
  },
  {
   "cell_type": "code",
   "execution_count": 26,
   "id": "f206398b",
   "metadata": {},
   "outputs": [
    {
     "data": {
      "text/plain": [
       "dict_keys(['name', 'type', 'displayName', 'pipLocation', 'displayPrecision', 'tradeUnitsPrecision', 'minimumTradeSize', 'maximumTrailingStopDistance', 'minimumTrailingStopDistance', 'maximumPositionSize', 'maximumOrderUnits', 'marginRate', 'guaranteedStopLossOrderMode', 'tags', 'financing'])"
      ]
     },
     "execution_count": 26,
     "metadata": {},
     "output_type": "execute_result"
    }
   ],
   "source": [
    "instruments_list[0].keys()"
   ]
  },
  {
   "cell_type": "code",
   "execution_count": 27,
   "id": "1f3ca436",
   "metadata": {},
   "outputs": [],
   "source": [
    "key_i = ['name', 'type', 'displayName', 'pipLocation',\n",
    "         'displayPrecision', 'tradeUnitsPrecision', 'marginRate']"
   ]
  },
  {
   "cell_type": "code",
   "execution_count": 30,
   "id": "b71bf92e",
   "metadata": {},
   "outputs": [],
   "source": [
    "instruments_dict = {}\n",
    "for i in instruments_list:\n",
    "    key = i['name']\n",
    "    instruments_dict[key] = { k: i[k] for k in key_i }"
   ]
  },
  {
   "cell_type": "code",
   "execution_count": 32,
   "id": "5de0c72a",
   "metadata": {},
   "outputs": [
    {
     "data": {
      "text/plain": [
       "{'name': 'USD_CAD',\n",
       " 'type': 'CURRENCY',\n",
       " 'displayName': 'USD/CAD',\n",
       " 'pipLocation': -4,\n",
       " 'displayPrecision': 5,\n",
       " 'tradeUnitsPrecision': 0,\n",
       " 'marginRate': '0.0333'}"
      ]
     },
     "execution_count": 32,
     "metadata": {},
     "output_type": "execute_result"
    }
   ],
   "source": [
    "instruments_dict['USD_CAD']"
   ]
  },
  {
   "cell_type": "code",
   "execution_count": 2,
   "id": "cd30b045",
   "metadata": {},
   "outputs": [
    {
     "data": {
      "text/plain": [
       "0.0001"
      ]
     },
     "execution_count": 2,
     "metadata": {},
     "output_type": "execute_result"
    }
   ],
   "source": [
    "# -4 -> 0.0001\n",
    "pow(10, -4)"
   ]
  },
  {
   "cell_type": "code",
   "execution_count": 34,
   "id": "e5fa457a",
   "metadata": {},
   "outputs": [],
   "source": [
    "with open(\"../data/instruments.json\", \"w\") as f:\n",
    "    f.write(json.dumps(instruments_dict, indent=2))"
   ]
  },
  {
   "cell_type": "code",
   "execution_count": 71,
   "id": "34fb0cd2",
   "metadata": {},
   "outputs": [],
   "source": [
    "def fetch_candles(pair_name, count=10, granularity=\"H1\"):\n",
    "    url = f\"{OANDA_URL}/instruments/{pair_name}/candles\"\n",
    "    params = dict(\n",
    "        count = count,\n",
    "        granularity = granularity,\n",
    "        price = \"MBA\"\n",
    "    )\n",
    "    response = session.get(url, params=params, data=None, headers=None)\n",
    "    data = response.json()\n",
    "    \n",
    "    if response.status_code == 200:\n",
    "        if 'candles' not in data:\n",
    "            data = []\n",
    "        else:\n",
    "            data = data['candles']\n",
    "    return response.status_code, data\n",
    "\n",
    "def get_candles_df(data):\n",
    "    if len(data) == 0:\n",
    "        return pd.DataFrame.empty\n",
    "    \n",
    "    prices = ['mid', 'bid', 'ask']\n",
    "    ohlc = ['o', 'h', 'l', 'c']\n",
    "    \n",
    "    final_data = []\n",
    "    for candle in data:\n",
    "        if candle['complete'] == False:\n",
    "            continue\n",
    "        new_dict = {}\n",
    "        new_dict['time'] = parser.parse(candle['time'])\n",
    "        new_dict['volume'] = candle['volume']\n",
    "        for p in prices:\n",
    "            for o in ohlc:\n",
    "                new_dict[f\"{p}_{o}\"] = float(candle[p][o])\n",
    "        final_data.append(new_dict)\n",
    "    df = pd.DataFrame.from_dict(final_data)\n",
    "    return df\n",
    "\n",
    "def create_data_file(pair_name, count=10, granularity=\"H1\"):\n",
    "    code, data = fetch_candles(pair_name, count, granularity)\n",
    "    if code != 200:\n",
    "        print(\"Failed\", pair_name, data)\n",
    "        return\n",
    "    if len(data) == 0:\n",
    "        print(\"No candles\", pair_name)\n",
    "    candles_df = get_candles_df(data)\n",
    "    candles_df.to_pickle(f\"../data/{pair_name}_{granularity}.pkl\")\n",
    "    print(f\"{pair_name} {granularity} {candles_df.shape[0]} candles, {candles_df.time.min()} {candles_df.time.max()}\")\n",
    "    "
   ]
  },
  {
   "cell_type": "code",
   "execution_count": 68,
   "id": "ab340e70",
   "metadata": {},
   "outputs": [],
   "source": [
    "code, data = fetch_candles(\"EUR_USD\", count=10, granularity=\"H4\")\n",
    "candles_df = get_candles_df(data)"
   ]
  },
  {
   "cell_type": "code",
   "execution_count": 72,
   "id": "eba4c21e",
   "metadata": {},
   "outputs": [
    {
     "name": "stdout",
     "output_type": "stream",
     "text": [
      "EUR_USD H4 9 candles, 2022-01-21 18:00:00+00:00 2022-01-25 02:00:00+00:00\n"
     ]
    }
   ],
   "source": [
    "create_data_file(\"EUR_USD\", count=10, granularity=\"H4\")"
   ]
  },
  {
   "cell_type": "code",
   "execution_count": 73,
   "id": "9c359733",
   "metadata": {},
   "outputs": [],
   "source": [
    "our_curr = ['EUR', 'USD', 'GBP', 'JPY', 'CHF', 'NZD', 'CAD', 'AUD']"
   ]
  },
  {
   "cell_type": "code",
   "execution_count": 75,
   "id": "36c29996",
   "metadata": {},
   "outputs": [
    {
     "name": "stdout",
     "output_type": "stream",
     "text": [
      "EUR_USD H1 4000 candles, 2021-06-04 13:00:00+00:00 2022-01-25 07:00:00+00:00\n",
      "EUR_USD H4 4000 candles, 2019-07-01 17:00:00+00:00 2022-01-25 02:00:00+00:00\n",
      "EUR_GBP H1 4000 candles, 2021-06-04 13:00:00+00:00 2022-01-25 07:00:00+00:00\n",
      "EUR_GBP H4 4000 candles, 2019-07-01 21:00:00+00:00 2022-01-25 02:00:00+00:00\n",
      "EUR_JPY H1 4000 candles, 2021-06-04 13:00:00+00:00 2022-01-25 07:00:00+00:00\n",
      "EUR_JPY H4 4000 candles, 2019-07-01 17:00:00+00:00 2022-01-25 02:00:00+00:00\n",
      "EUR_CHF H1 4000 candles, 2021-06-04 13:00:00+00:00 2022-01-25 07:00:00+00:00\n",
      "EUR_CHF H4 4000 candles, 2019-07-01 17:00:00+00:00 2022-01-25 02:00:00+00:00\n",
      "EUR_NZD H1 4000 candles, 2021-06-04 13:00:00+00:00 2022-01-25 07:00:00+00:00\n",
      "EUR_NZD H4 4000 candles, 2019-07-01 21:00:00+00:00 2022-01-25 02:00:00+00:00\n",
      "EUR_CAD H1 4000 candles, 2021-06-04 13:00:00+00:00 2022-01-25 07:00:00+00:00\n",
      "EUR_CAD H4 4000 candles, 2019-07-01 17:00:00+00:00 2022-01-25 02:00:00+00:00\n",
      "EUR_AUD H1 4000 candles, 2021-06-04 13:00:00+00:00 2022-01-25 07:00:00+00:00\n",
      "EUR_AUD H4 4000 candles, 2019-07-01 21:00:00+00:00 2022-01-25 02:00:00+00:00\n",
      "USD_JPY H1 4000 candles, 2021-06-04 13:00:00+00:00 2022-01-25 07:00:00+00:00\n",
      "USD_JPY H4 4000 candles, 2019-07-03 09:00:00+00:00 2022-01-25 02:00:00+00:00\n",
      "USD_CHF H1 4000 candles, 2021-06-04 13:00:00+00:00 2022-01-25 07:00:00+00:00\n",
      "USD_CHF H4 4000 candles, 2019-07-02 09:00:00+00:00 2022-01-25 02:00:00+00:00\n",
      "USD_CAD H1 4000 candles, 2021-06-04 13:00:00+00:00 2022-01-25 07:00:00+00:00\n",
      "USD_CAD H4 4000 candles, 2019-07-03 21:00:00+00:00 2022-01-25 02:00:00+00:00\n",
      "GBP_USD H1 4000 candles, 2021-06-04 13:00:00+00:00 2022-01-25 07:00:00+00:00\n",
      "GBP_USD H4 4000 candles, 2019-07-02 01:00:00+00:00 2022-01-25 02:00:00+00:00\n",
      "GBP_JPY H1 4000 candles, 2021-06-04 13:00:00+00:00 2022-01-25 07:00:00+00:00\n",
      "GBP_JPY H4 4000 candles, 2019-07-02 05:00:00+00:00 2022-01-25 02:00:00+00:00\n",
      "GBP_CHF H1 4000 candles, 2021-06-04 12:00:00+00:00 2022-01-25 07:00:00+00:00\n",
      "GBP_CHF H4 4000 candles, 2019-07-02 01:00:00+00:00 2022-01-25 02:00:00+00:00\n",
      "GBP_NZD H1 4000 candles, 2021-06-04 13:00:00+00:00 2022-01-25 07:00:00+00:00\n",
      "GBP_NZD H4 4000 candles, 2019-07-02 05:00:00+00:00 2022-01-25 02:00:00+00:00\n",
      "GBP_CAD H1 4000 candles, 2021-06-04 13:00:00+00:00 2022-01-25 07:00:00+00:00\n",
      "GBP_CAD H4 4000 candles, 2019-07-02 05:00:00+00:00 2022-01-25 02:00:00+00:00\n",
      "GBP_AUD H1 4000 candles, 2021-06-04 12:00:00+00:00 2022-01-25 07:00:00+00:00\n",
      "GBP_AUD H4 4000 candles, 2019-07-01 13:00:00+00:00 2022-01-25 02:00:00+00:00\n",
      "CHF_JPY H1 4000 candles, 2021-06-04 12:00:00+00:00 2022-01-25 07:00:00+00:00\n",
      "CHF_JPY H4 4000 candles, 2019-07-01 17:00:00+00:00 2022-01-25 02:00:00+00:00\n",
      "NZD_USD H1 4000 candles, 2021-06-04 15:00:00+00:00 2022-01-25 07:00:00+00:00\n",
      "NZD_USD H4 4000 candles, 2019-07-03 01:00:00+00:00 2022-01-25 02:00:00+00:00\n",
      "NZD_JPY H1 4000 candles, 2021-06-04 13:00:00+00:00 2022-01-25 07:00:00+00:00\n",
      "NZD_JPY H4 4000 candles, 2019-07-03 13:00:00+00:00 2022-01-25 02:00:00+00:00\n",
      "NZD_CHF H1 4000 candles, 2021-06-04 13:00:00+00:00 2022-01-25 07:00:00+00:00\n",
      "NZD_CHF H4 4000 candles, 2019-07-03 01:00:00+00:00 2022-01-25 02:00:00+00:00\n",
      "NZD_CAD H1 4000 candles, 2021-06-04 12:00:00+00:00 2022-01-25 07:00:00+00:00\n",
      "NZD_CAD H4 4000 candles, 2019-07-03 01:00:00+00:00 2022-01-25 02:00:00+00:00\n",
      "CAD_JPY H1 4000 candles, 2021-06-04 13:00:00+00:00 2022-01-25 07:00:00+00:00\n",
      "CAD_JPY H4 4000 candles, 2019-07-01 17:00:00+00:00 2022-01-25 02:00:00+00:00\n",
      "CAD_CHF H1 4000 candles, 2021-06-04 13:00:00+00:00 2022-01-25 07:00:00+00:00\n",
      "CAD_CHF H4 4000 candles, 2019-07-01 13:00:00+00:00 2022-01-25 02:00:00+00:00\n",
      "AUD_USD H1 4000 candles, 2021-06-04 13:00:00+00:00 2022-01-25 07:00:00+00:00\n",
      "AUD_USD H4 4000 candles, 2019-07-01 13:00:00+00:00 2022-01-25 02:00:00+00:00\n",
      "AUD_JPY H1 4000 candles, 2021-06-04 13:00:00+00:00 2022-01-25 07:00:00+00:00\n",
      "AUD_JPY H4 4000 candles, 2019-07-01 13:00:00+00:00 2022-01-25 02:00:00+00:00\n",
      "AUD_CHF H1 4000 candles, 2021-06-04 13:00:00+00:00 2022-01-25 07:00:00+00:00\n",
      "AUD_CHF H4 4000 candles, 2019-07-01 13:00:00+00:00 2022-01-25 02:00:00+00:00\n",
      "AUD_NZD H1 4000 candles, 2021-06-04 13:00:00+00:00 2022-01-25 07:00:00+00:00\n",
      "AUD_NZD H4 4000 candles, 2019-07-01 13:00:00+00:00 2022-01-25 02:00:00+00:00\n",
      "AUD_CAD H1 4000 candles, 2021-06-04 13:00:00+00:00 2022-01-25 07:00:00+00:00\n",
      "AUD_CAD H4 4000 candles, 2019-07-01 13:00:00+00:00 2022-01-25 02:00:00+00:00\n"
     ]
    }
   ],
   "source": [
    "for p1 in our_curr:\n",
    "    for p2 in our_curr:\n",
    "        pr = f\"{p1}_{p2}\"\n",
    "        if pr in instruments_dict:\n",
    "            for g in [\"H1\", \"H4\"]:\n",
    "                create_data_file(pr, count=4001, granularity=g)"
   ]
  },
  {
   "cell_type": "code",
   "execution_count": null,
   "id": "20c06649",
   "metadata": {},
   "outputs": [],
   "source": []
  },
  {
   "cell_type": "code",
   "execution_count": null,
   "id": "0b10bf8f",
   "metadata": {},
   "outputs": [],
   "source": []
  },
  {
   "cell_type": "code",
   "execution_count": null,
   "id": "21d891ee",
   "metadata": {},
   "outputs": [],
   "source": []
  },
  {
   "cell_type": "code",
   "execution_count": null,
   "id": "b58d0f7d",
   "metadata": {},
   "outputs": [],
   "source": []
  },
  {
   "cell_type": "code",
   "execution_count": null,
   "id": "f065a3d2",
   "metadata": {},
   "outputs": [],
   "source": []
  },
  {
   "cell_type": "code",
   "execution_count": null,
   "id": "719819da",
   "metadata": {},
   "outputs": [],
   "source": []
  }
 ],
 "metadata": {
  "kernelspec": {
   "display_name": "Python 3 (ipykernel)",
   "language": "python",
   "name": "python3"
  },
  "language_info": {
   "codemirror_mode": {
    "name": "ipython",
    "version": 3
   },
   "file_extension": ".py",
   "mimetype": "text/x-python",
   "name": "python",
   "nbconvert_exporter": "python",
   "pygments_lexer": "ipython3",
   "version": "3.10.1"
  }
 },
 "nbformat": 4,
 "nbformat_minor": 5
}

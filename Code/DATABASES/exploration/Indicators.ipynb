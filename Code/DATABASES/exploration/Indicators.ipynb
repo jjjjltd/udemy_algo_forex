{
 "cells": [
  {
   "cell_type": "code",
   "execution_count": null,
   "id": "dae82e64",
   "metadata": {},
   "outputs": [],
   "source": [
    "import sys\n",
    "sys.path.append('../')\n",
    "from plotting import CandlePlot\n",
    "import pandas as pd"
   ]
  },
  {
   "cell_type": "code",
   "execution_count": null,
   "id": "56cdab80",
   "metadata": {},
   "outputs": [],
   "source": [
    "from technicals.indicators import BollingerBands, ATR, KeltnerChannels, RSI, MACD"
   ]
  },
  {
   "cell_type": "code",
   "execution_count": null,
   "id": "beef41a3",
   "metadata": {},
   "outputs": [],
   "source": [
    "df = pd.read_pickle(\"../data/AUD_CAD_H1.pkl\")"
   ]
  },
  {
   "cell_type": "code",
   "execution_count": null,
   "id": "4bf91b0c",
   "metadata": {},
   "outputs": [],
   "source": [
    "df_an = df.copy()"
   ]
  },
  {
   "cell_type": "code",
   "execution_count": null,
   "id": "4cbda831",
   "metadata": {},
   "outputs": [],
   "source": [
    "df_an = MACD(df_an)"
   ]
  },
  {
   "cell_type": "code",
   "execution_count": null,
   "id": "92f180aa",
   "metadata": {},
   "outputs": [],
   "source": [
    "df_an.tail()"
   ]
  },
  {
   "cell_type": "code",
   "execution_count": null,
   "id": "f5b7225d",
   "metadata": {},
   "outputs": [],
   "source": [
    "dfp = df_an.iloc[-100:]\n",
    "cp = CandlePlot(dfp, candles=True)\n",
    "cp.show_plot(line_traces=[], sec_traces=[])"
   ]
  },
  {
   "cell_type": "code",
   "execution_count": null,
   "id": "2fbc028f",
   "metadata": {},
   "outputs": [],
   "source": [
    "import plotly.graph_objects as go"
   ]
  },
  {
   "cell_type": "code",
   "execution_count": null,
   "id": "1e45762a",
   "metadata": {},
   "outputs": [],
   "source": [
    "cp = CandlePlot(dfp, candles=False)\n",
    "cp.fig.add_trace(go.Bar(\n",
    "    x=cp.df_plot.sTime,\n",
    "    y=cp.df_plot.HIST,\n",
    "    name=\"HIST\"\n",
    "))\n",
    "cp.show_plot(line_traces=['SIGNAL', 'MACD'], sec_traces=[])"
   ]
  },
  {
   "cell_type": "code",
   "execution_count": null,
   "id": "8b836ece",
   "metadata": {},
   "outputs": [],
   "source": []
  },
  {
   "cell_type": "code",
   "execution_count": null,
   "id": "a70408e6",
   "metadata": {},
   "outputs": [],
   "source": []
  },
  {
   "cell_type": "code",
   "execution_count": null,
   "id": "b1d1d8e5",
   "metadata": {},
   "outputs": [],
   "source": []
  }
 ],
 "metadata": {
  "kernelspec": {
   "display_name": "Python 3 (ipykernel)",
   "language": "python",
   "name": "python3"
  },
  "language_info": {
   "codemirror_mode": {
    "name": "ipython",
    "version": 3
   },
   "file_extension": ".py",
   "mimetype": "text/x-python",
   "name": "python",
   "nbconvert_exporter": "python",
   "pygments_lexer": "ipython3",
   "version": "3.10.1"
  }
 },
 "nbformat": 4,
 "nbformat_minor": 5
}
